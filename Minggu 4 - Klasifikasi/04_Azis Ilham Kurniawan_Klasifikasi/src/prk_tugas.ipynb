{
 "cells": [
  {
   "cell_type": "markdown",
   "metadata": {},
   "source": [
    "# Tugas Praktikum\n",
    "\n",
    "1. Buatlah model klasifikasi dengan menggunakan SVM untuk data suara, voice.csv. \n",
    "2. Buatlah model klasfikasi Multinomial Naive Bayes dengan ketentuan,\n",
    "    1. Menggunakan data spam.csv\n",
    "    2. Fitur CountVectorizer dengan mengaktifkan stop_words\n",
    "    3. Evaluasi hasilnya\n",
    "3. Buatlah model klasfikasi Multinomial Naive Bayes dengan ketentuan,\n",
    "    1. Menggunakan data spam.csv\n",
    "    2. Fitur TF-IDF dengan mengaktifkan stop_words\n",
    "    3. Evaluasi hasilnya dan bandingkan dengan hasil pada Tugas no 2.\n",
    "    4. Berikan kesimpulan fitur mana yang terbaik pada kasus data spam.csv"
   ]
  },
  {
   "cell_type": "markdown",
   "metadata": {},
   "source": [
    "**1. Buatlah model klasifikasi dengan menggunakan SVM untuk data suara, voice.csv.**"
   ]
  },
  {
   "cell_type": "code",
   "execution_count": 1,
   "metadata": {},
   "outputs": [
    {
     "name": "stdout",
     "output_type": "stream",
     "text": [
      "Accuracy: 0.9416403785488959\n",
      "Confusion Matrix:\n",
      "[[265  32]\n",
      " [  5 332]]\n",
      "Classification Report:\n",
      "              precision    recall  f1-score   support\n",
      "\n",
      "      female       0.98      0.89      0.93       297\n",
      "        male       0.91      0.99      0.95       337\n",
      "\n",
      "    accuracy                           0.94       634\n",
      "   macro avg       0.95      0.94      0.94       634\n",
      "weighted avg       0.94      0.94      0.94       634\n",
      "\n"
     ]
    }
   ],
   "source": [
    "# Impor library yang diperlukan\n",
    "import pandas as pd\n",
    "from sklearn.model_selection import train_test_split\n",
    "from sklearn.svm import SVC\n",
    "from sklearn.metrics import accuracy_score, classification_report, confusion_matrix\n",
    "\n",
    "# Membaca data voice.csv\n",
    "data = pd.read_csv('../docs/voice.csv')\n",
    "\n",
    "# Memisahkan fitur dan label\n",
    "X = data.drop('label', axis=1)\n",
    "y = data['label']\n",
    "\n",
    "# Membagi data menjadi data pelatihan dan data pengujian (misalnya, 80% pelatihan dan 20% pengujian)\n",
    "X_train, X_test, y_train, y_test = train_test_split(X, y, test_size=0.2, random_state=42)\n",
    "\n",
    "# Membangun model SVM\n",
    "svm_model = SVC(kernel='linear')\n",
    "\n",
    "# Melatih model SVM\n",
    "svm_model.fit(X_train, y_train)\n",
    "\n",
    "# Memprediksi label untuk data pengujian\n",
    "y_pred = svm_model.predict(X_test)\n",
    "\n",
    "# Evaluasi model\n",
    "accuracy = accuracy_score(y_test, y_pred)\n",
    "confusion = confusion_matrix(y_test, y_pred)\n",
    "report = classification_report(y_test, y_pred)\n",
    "\n",
    "# Menampilkan hasil evaluasi\n",
    "print(f'Accuracy: {accuracy}')\n",
    "print(f'Confusion Matrix:\\n{confusion}')\n",
    "print(f'Classification Report:\\n{report}')\n"
   ]
  },
  {
   "cell_type": "markdown",
   "metadata": {},
   "source": [
    "**2. Buatlah model klasfikasi Multinomial Naive Bayes**"
   ]
  },
  {
   "cell_type": "code",
   "execution_count": 4,
   "metadata": {},
   "outputs": [
    {
     "name": "stdout",
     "output_type": "stream",
     "text": [
      "Multinomial Naive Bayes dengan CountVectorizer:\n",
      "Accuracy: 0.9838565022421525\n",
      "Confusion Matrix:\n",
      "[[959   6]\n",
      " [ 12 138]]\n",
      "Classification Report:\n",
      "              precision    recall  f1-score   support\n",
      "\n",
      "         ham       0.99      0.99      0.99       965\n",
      "        spam       0.96      0.92      0.94       150\n",
      "\n",
      "    accuracy                           0.98      1115\n",
      "   macro avg       0.97      0.96      0.96      1115\n",
      "weighted avg       0.98      0.98      0.98      1115\n",
      "\n"
     ]
    }
   ],
   "source": [
    "# Impor library yang diperlukan\n",
    "import pandas as pd\n",
    "from sklearn.model_selection import train_test_split\n",
    "from sklearn.feature_extraction.text import CountVectorizer\n",
    "from sklearn.naive_bayes import MultinomialNB\n",
    "from sklearn.metrics import accuracy_score, classification_report, confusion_matrix\n",
    "\n",
    "# Membaca data spam.csv\n",
    "data = pd.read_csv('../docs/spam.csv')\n",
    "\n",
    "# Memisahkan fitur (pesan) dan label (spam/ham)\n",
    "X = data['v2']\n",
    "y = data['v1']\n",
    "\n",
    "# Membagi data menjadi data pelatihan dan data pengujian (misalnya, 80% pelatihan dan 20% pengujian)\n",
    "X_train, X_test, y_train, y_test = train_test_split(X, y, test_size=0.2, random_state=42)\n",
    "\n",
    "# Membangun CountVectorizer dengan stop words\n",
    "count_vectorizer = CountVectorizer(stop_words='english')\n",
    "X_train_count = count_vectorizer.fit_transform(X_train)\n",
    "X_test_count = count_vectorizer.transform(X_test)\n",
    "\n",
    "# Membangun model Multinomial Naive Bayes\n",
    "nb_model = MultinomialNB()\n",
    "\n",
    "# Melatih model Multinomial Naive Bayes\n",
    "nb_model.fit(X_train_count, y_train)\n",
    "\n",
    "# Memprediksi label untuk data pengujian\n",
    "y_pred_count = nb_model.predict(X_test_count)\n",
    "\n",
    "# Evaluasi model Multinomial Naive Bayes dengan CountVectorizer\n",
    "accuracy_count = accuracy_score(y_test, y_pred_count)\n",
    "confusion_count = confusion_matrix(y_test, y_pred_count)\n",
    "report_count = classification_report(y_test, y_pred_count)\n",
    "\n",
    "# Menampilkan hasil evaluasi\n",
    "print(\"Multinomial Naive Bayes dengan CountVectorizer:\")\n",
    "print(f'Accuracy: {accuracy_count}')\n",
    "print(f'Confusion Matrix:\\n{confusion_count}')\n",
    "print(f'Classification Report:\\n{report_count}')\n"
   ]
  },
  {
   "cell_type": "markdown",
   "metadata": {},
   "source": [
    "**3. Buatlah model klasfikasi Multinomial Naive Bayes**"
   ]
  },
  {
   "cell_type": "code",
   "execution_count": 5,
   "metadata": {},
   "outputs": [
    {
     "name": "stdout",
     "output_type": "stream",
     "text": [
      "Multinomial Naive Bayes dengan TF-IDF:\n",
      "Accuracy: 0.9668161434977578\n",
      "Confusion Matrix:\n",
      "[[965   0]\n",
      " [ 37 113]]\n",
      "Classification Report:\n",
      "              precision    recall  f1-score   support\n",
      "\n",
      "         ham       0.96      1.00      0.98       965\n",
      "        spam       1.00      0.75      0.86       150\n",
      "\n",
      "    accuracy                           0.97      1115\n",
      "   macro avg       0.98      0.88      0.92      1115\n",
      "weighted avg       0.97      0.97      0.96      1115\n",
      "\n"
     ]
    }
   ],
   "source": [
    "# Impor library yang diperlukan\n",
    "from sklearn.feature_extraction.text import TfidfVectorizer\n",
    "\n",
    "# Membangun TF-IDF Vectorizer dengan stop words\n",
    "tfidf_vectorizer = TfidfVectorizer(stop_words='english')\n",
    "X_train_tfidf = tfidf_vectorizer.fit_transform(X_train)\n",
    "X_test_tfidf = tfidf_vectorizer.transform(X_test)\n",
    "\n",
    "# Membangun model Multinomial Naive Bayes\n",
    "nb_model_tfidf = MultinomialNB()\n",
    "\n",
    "# Melatih model Multinomial Naive Bayes dengan TF-IDF\n",
    "nb_model_tfidf.fit(X_train_tfidf, y_train)\n",
    "\n",
    "# Memprediksi label untuk data pengujian\n",
    "y_pred_tfidf = nb_model_tfidf.predict(X_test_tfidf)\n",
    "\n",
    "# Evaluasi model Multinomial Naive Bayes dengan TF-IDF\n",
    "accuracy_tfidf = accuracy_score(y_test, y_pred_tfidf)\n",
    "confusion_tfidf = confusion_matrix(y_test, y_pred_tfidf)\n",
    "report_tfidf = classification_report(y_test, y_pred_tfidf)\n",
    "\n",
    "# Menampilkan hasil evaluasi\n",
    "print(\"Multinomial Naive Bayes dengan TF-IDF:\")\n",
    "print(f'Accuracy: {accuracy_tfidf}')\n",
    "print(f'Confusion Matrix:\\n{confusion_tfidf}')\n",
    "print(f'Classification Report:\\n{report_tfidf}')\n"
   ]
  }
 ],
 "metadata": {
  "kernelspec": {
   "display_name": "base",
   "language": "python",
   "name": "python3"
  },
  "language_info": {
   "codemirror_mode": {
    "name": "ipython",
    "version": 3
   },
   "file_extension": ".py",
   "mimetype": "text/x-python",
   "name": "python",
   "nbconvert_exporter": "python",
   "pygments_lexer": "ipython3",
   "version": "3.8.8"
  },
  "orig_nbformat": 4
 },
 "nbformat": 4,
 "nbformat_minor": 2
}
