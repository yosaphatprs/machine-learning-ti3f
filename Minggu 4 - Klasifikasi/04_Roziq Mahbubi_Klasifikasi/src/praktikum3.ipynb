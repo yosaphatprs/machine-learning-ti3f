{
 "cells": [
  {
   "cell_type": "code",
   "execution_count": 1,
   "metadata": {},
   "outputs": [
    {
     "name": "stdout",
     "output_type": "stream",
     "text": [
      "[[ 51  88]\n",
      " [ 85 100]\n",
      " [179  55]\n",
      " [189 100]\n",
      " [ 52 110]\n",
      " [  2 163]\n",
      " [ 79 125]\n",
      " [149  63]\n",
      " [ 96  80]\n",
      " [ 59  62]\n",
      " [ 26  61]\n",
      " [112 134]\n",
      " [100  33]\n",
      " [429 123]\n",
      " [ 80 184]\n",
      " [119  19]\n",
      " [104  65]\n",
      " [151  88]\n",
      " [ 59 151]\n",
      " [233 114]\n",
      " [  6 180]\n",
      " [ 22 117]\n",
      " [126  94]\n",
      " [112 106]\n",
      " [137  28]\n",
      " [ 22 192]\n",
      " [ 15 135]\n",
      " [158  65]\n",
      " [ 88 145]\n",
      " [ 76  70]]\n",
      "[0 0 0 0 0 0 0 0 1 1 1 1 1 1 1 1 0 0 0 0 0 0 0 1 1 1 1 1 1 0]\n"
     ]
    }
   ],
   "source": [
    "import numpy as np # import numpy\n",
    "from sklearn.datasets import make_classification # library untuk membuat data sintesis klasifikasi biner\n",
    "\n",
    "# membuat data set sintetis dengan 30 sample dan 2 fitur\n",
    "X,y = make_classification(n_samples=30, n_features=2, n_classes=2, n_informative=2, n_redundant=0, n_repeated=0, shuffle=False)\n",
    "\n",
    "# merubah dataset X menjadi nilai absolut\n",
    "X = np.absolute(X)\n",
    "\n",
    "# membulatkan dua angka dibelakang koma\n",
    "X = np.round(X, 2) * 100\n",
    "\n",
    "# merubah tipe data ke integer\n",
    "X = X.astype(int)\n",
    "print(X)\n",
    "print(y)"
   ]
  },
  {
   "cell_type": "code",
   "execution_count": 2,
   "metadata": {},
   "outputs": [
    {
     "data": {
      "text/html": [
       "<div>\n",
       "<style scoped>\n",
       "    .dataframe tbody tr th:only-of-type {\n",
       "        vertical-align: middle;\n",
       "    }\n",
       "\n",
       "    .dataframe tbody tr th {\n",
       "        vertical-align: top;\n",
       "    }\n",
       "\n",
       "    .dataframe thead th {\n",
       "        text-align: right;\n",
       "    }\n",
       "</style>\n",
       "<table border=\"1\" class=\"dataframe\">\n",
       "  <thead>\n",
       "    <tr style=\"text-align: right;\">\n",
       "      <th></th>\n",
       "      <th>Fitur 1</th>\n",
       "      <th>Fitur 2</th>\n",
       "      <th>Label</th>\n",
       "    </tr>\n",
       "  </thead>\n",
       "  <tbody>\n",
       "    <tr>\n",
       "      <th>0</th>\n",
       "      <td>51</td>\n",
       "      <td>88</td>\n",
       "      <td>0</td>\n",
       "    </tr>\n",
       "    <tr>\n",
       "      <th>1</th>\n",
       "      <td>85</td>\n",
       "      <td>100</td>\n",
       "      <td>0</td>\n",
       "    </tr>\n",
       "    <tr>\n",
       "      <th>2</th>\n",
       "      <td>179</td>\n",
       "      <td>55</td>\n",
       "      <td>0</td>\n",
       "    </tr>\n",
       "    <tr>\n",
       "      <th>3</th>\n",
       "      <td>189</td>\n",
       "      <td>100</td>\n",
       "      <td>0</td>\n",
       "    </tr>\n",
       "    <tr>\n",
       "      <th>4</th>\n",
       "      <td>52</td>\n",
       "      <td>110</td>\n",
       "      <td>0</td>\n",
       "    </tr>\n",
       "  </tbody>\n",
       "</table>\n",
       "</div>"
      ],
      "text/plain": [
       "   Fitur 1  Fitur 2  Label\n",
       "0       51       88      0\n",
       "1       85      100      0\n",
       "2      179       55      0\n",
       "3      189      100      0\n",
       "4       52      110      0"
      ]
     },
     "execution_count": 2,
     "metadata": {},
     "output_type": "execute_result"
    }
   ],
   "source": [
    "import pandas as pd # import pandas\n",
    "\n",
    "# melakukan reshape pada y menjadi data 2d\n",
    "y_new = y.reshape(len(y), 1)\n",
    "\n",
    "# menggabungkan data x dan label y dalam 1 array\n",
    "data = np.concatenate((X, y_new), axis=1)\n",
    "\n",
    "# membuat nama kolom data x\n",
    "nama_kolom = ['Fitur 1', 'Fitur 2', 'Label']\n",
    "\n",
    "# membuat dataframe dari array dan nama kolom tadi\n",
    "df = pd.DataFrame(data, columns=nama_kolom)\n",
    "\n",
    "# cetak 5 data teratas\n",
    "df.head()"
   ]
  },
  {
   "cell_type": "code",
   "execution_count": 3,
   "metadata": {},
   "outputs": [
    {
     "data": {
      "text/html": [
       "<div>\n",
       "<style scoped>\n",
       "    .dataframe tbody tr th:only-of-type {\n",
       "        vertical-align: middle;\n",
       "    }\n",
       "\n",
       "    .dataframe tbody tr th {\n",
       "        vertical-align: top;\n",
       "    }\n",
       "\n",
       "    .dataframe thead th {\n",
       "        text-align: right;\n",
       "    }\n",
       "</style>\n",
       "<table border=\"1\" class=\"dataframe\">\n",
       "  <thead>\n",
       "    <tr style=\"text-align: right;\">\n",
       "      <th></th>\n",
       "      <th>Fitur 1</th>\n",
       "      <th>Fitur 2</th>\n",
       "      <th>Label</th>\n",
       "    </tr>\n",
       "  </thead>\n",
       "  <tbody>\n",
       "    <tr>\n",
       "      <th>0</th>\n",
       "      <td>51</td>\n",
       "      <td>88</td>\n",
       "      <td>Kelas B</td>\n",
       "    </tr>\n",
       "    <tr>\n",
       "      <th>1</th>\n",
       "      <td>85</td>\n",
       "      <td>100</td>\n",
       "      <td>Kelas B</td>\n",
       "    </tr>\n",
       "    <tr>\n",
       "      <th>2</th>\n",
       "      <td>179</td>\n",
       "      <td>55</td>\n",
       "      <td>Kelas B</td>\n",
       "    </tr>\n",
       "    <tr>\n",
       "      <th>3</th>\n",
       "      <td>189</td>\n",
       "      <td>100</td>\n",
       "      <td>Kelas B</td>\n",
       "    </tr>\n",
       "    <tr>\n",
       "      <th>4</th>\n",
       "      <td>52</td>\n",
       "      <td>110</td>\n",
       "      <td>Kelas B</td>\n",
       "    </tr>\n",
       "  </tbody>\n",
       "</table>\n",
       "</div>"
      ],
      "text/plain": [
       "   Fitur 1  Fitur 2    Label\n",
       "0       51       88  Kelas B\n",
       "1       85      100  Kelas B\n",
       "2      179       55  Kelas B\n",
       "3      189      100  Kelas B\n",
       "4       52      110  Kelas B"
      ]
     },
     "execution_count": 3,
     "metadata": {},
     "output_type": "execute_result"
    }
   ],
   "source": [
    "# membuat nama label\n",
    "labels = {\n",
    "    1 : 'Kelas A',\n",
    "    0 : 'Kelas B'\n",
    "}\n",
    "\n",
    "# menduplikasikan dataframe\n",
    "df_label = df.copy()\n",
    "\n",
    "# merubah label pada dataframe yang baru\n",
    "df_label['Label'] = df_label['Label'].map(labels)\n",
    "\n",
    "# cetak 5 data teratas\n",
    "df_label.head()"
   ]
  },
  {
   "cell_type": "code",
   "execution_count": 4,
   "metadata": {},
   "outputs": [
    {
     "data": {
      "image/png": "[encoded data removed]",
      "text/plain": [
       "<Figure size 640x480 with 1 Axes>"
      ]
     },
     "metadata": {},
     "output_type": "display_data"
    }
   ],
   "source": [
    "import matplotlib.pyplot as plt #import matplotlib\n",
    "\n",
    "# mendefinisikan warna tiap class\n",
    "colors = {\n",
    "    'class_a': 'MediumVioletRed',\n",
    "    'class_b': 'Navy'\n",
    "}\n",
    "\n",
    "# mengelompokkan data berdasarkan label yang diberi\n",
    "gb = df_label.groupby(['Label'])\n",
    "class_a = gb.get_group('Kelas A')\n",
    "class_b = gb.get_group('Kelas B')\n",
    "\n",
    "# menampilkan data dengan plotlib\n",
    "plt.scatter(x=class_a['Fitur 1'], y=class_a['Fitur 2'], c=colors['class_a'])\n",
    "plt.scatter(x=class_b['Fitur 1'], y=class_b['Fitur 2'], c=colors['class_b'])\n",
    "plt.xlabel('Fitur 1')\n",
    "plt.ylabel('Fitur 2')\n",
    "plt.legend(['Kelas A', 'Kelas B'])\n",
    "plt.gca().axes.xaxis.set_ticklabels([])\n",
    "plt.gca().axes.yaxis.set_ticklabels([])\n",
    "plt.show()"
   ]
  },
  {
   "cell_type": "code",
   "execution_count": 5,
   "metadata": {},
   "outputs": [
    {
     "name": "stdout",
     "output_type": "stream",
     "text": [
      "Hasil akurasi data train: 0.47619047619047616\n",
      "Hasil akurasi data test: 0.4444444444444444\n"
     ]
    }
   ],
   "source": [
    "from sklearn.naive_bayes import MultinomialNB # package untuk melakukan klasifikasi naive bayes pada multinomial\n",
    "from sklearn.model_selection import train_test_split # untuk membagi data menjadi data train dan data tes\n",
    "from sklearn.metrics import accuracy_score # untuk mengevaluasi skor akurasi\n",
    "\n",
    "mnb = MultinomialNB() # instansiasi model\n",
    "\n",
    "# membagi data train dan data tes\n",
    "X_train, X_test, y_train, y_test = train_test_split(X,y, test_size=0.3, random_state=30)\n",
    "\n",
    "# train model\n",
    "mnb.fit(X_train, y_train)\n",
    "\n",
    "# melakukan prediksi dengan data train\n",
    "y_train_pred = mnb.predict(X_train)\n",
    "\n",
    "# evaluasi skor akurasi model\n",
    "acc_train = accuracy_score(y_train, y_train_pred)\n",
    "\n",
    "# melakukan prediksi dengan data tes\n",
    "y_test_pred = mnb.predict(X_test)\n",
    "\n",
    "# evaluasi skor akurasi model\n",
    "acc_test = accuracy_score(y_test, y_test_pred)\n",
    "\n",
    "# Print hasil evaluasi\n",
    "print(f'Hasil akurasi data train: {acc_train}')\n",
    "print(f'Hasil akurasi data test: {acc_test}')"
   ]
  },
  {
   "cell_type": "code",
   "execution_count": 6,
   "metadata": {},
   "outputs": [
    {
     "name": "stdout",
     "output_type": "stream",
     "text": [
      "Hasil akurasi data train (Gaussian): 0.6666666666666666\n",
      "Hasil akurasi data test (Gaussian): 0.2222222222222222\n"
     ]
    }
   ],
   "source": [
    "# package untuk melakukan klasifikasi naive bayes dan mengasumsikan kemungkinan fitur terdistribusi secara gaussian atau secara normal\n",
    "from sklearn.naive_bayes import GaussianNB \n",
    "\n",
    "gnb = GaussianNB() # instansiasi objek\n",
    "\n",
    "# melatih model\n",
    "gnb.fit(X_train, y_train)\n",
    "\n",
    "# melakukan prediksi dengan data train\n",
    "y_train_pred_gnb = gnb.predict(X_train)\n",
    "\n",
    "# evaluasi skor akurasi model\n",
    "acc_train_gnb = accuracy_score(y_train, y_train_pred_gnb)\n",
    "\n",
    "# melakukan prediksi dengan data tes\n",
    "y_test_pred_gnb = gnb.predict(X_test)\n",
    "\n",
    "# evaluasi skor akurasi model\n",
    "acc_test_gnb = accuracy_score(y_test, y_test_pred_gnb)\n",
    "\n",
    "# Print hasil evaluasi\n",
    "print(f'Hasil akurasi data train (Gaussian): {acc_train_gnb}')\n",
    "print(f'Hasil akurasi data test (Gaussian): {acc_test_gnb}')"
   ]
  },
  {
   "cell_type": "code",
   "execution_count": null,
   "metadata": {},
   "outputs": [],
   "source": []
  }
 ],
 "metadata": {
  "kernelspec": {
   "display_name": "base",
   "language": "python",
   "name": "python3"
  },
  "language_info": {
   "codemirror_mode": {
    "name": "ipython",
    "version": 3
   },
   "file_extension": ".py",
   "mimetype": "text/x-python",
   "name": "python",
   "nbconvert_exporter": "python",
   "pygments_lexer": "ipython3",
   "version": "3.11.4"
  },
  "orig_nbformat": 4
 },
 "nbformat": 4,
 "nbformat_minor": 2
}
