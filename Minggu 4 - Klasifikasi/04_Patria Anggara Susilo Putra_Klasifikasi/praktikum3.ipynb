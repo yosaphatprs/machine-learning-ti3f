{
 "cells": [
  {
   "cell_type": "code",
   "execution_count": 4,
   "id": "initial_id",
   "metadata": {
    "collapsed": true,
    "ExecuteTime": {
     "end_time": "2023-09-21T07:41:56.497170500Z",
     "start_time": "2023-09-21T07:41:56.354947800Z"
    }
   },
   "outputs": [],
   "source": [
    "# mengimport module yang dibutuhkan\n",
    "\n",
    "import numpy as np\n",
    "import pandas as pd\n",
    "import matplotlib.pyplot as plt\n",
    "\n",
    "from sklearn.datasets import make_classification\n",
    "from sklearn.model_selection import train_test_split\n",
    "from sklearn.naive_bayes import GaussianNB # class untuk model GaussianNB\n",
    "from sklearn.metrics import accuracy_score # evaluasi model berdasarkan akurasi\n",
    "from sklearn.naive_bayes import MultinomialNB # class untuk model MultinomialNB"
   ]
  },
  {
   "cell_type": "markdown",
   "source": [
    "## Praktikum 3: Klasifikasi Naive Bayes dengan Data Dummy"
   ],
   "metadata": {
    "collapsed": false
   },
   "id": "ab3b9ef2599e20a3"
  },
  {
   "cell_type": "markdown",
   "source": [
    "### Langkah 1: Mendefiniskan Data Dummy"
   ],
   "metadata": {
    "collapsed": false
   },
   "id": "8c8904321647112a"
  },
  {
   "cell_type": "code",
   "execution_count": 5,
   "outputs": [
    {
     "name": "stdout",
     "output_type": "stream",
     "text": [
      "[[111 108]\n",
      " [ 15  99]\n",
      " [104 104]\n",
      " [130 101]\n",
      " [202  60]\n",
      " [ 88 106]\n",
      " [ 83 105]\n",
      " [231  73]\n",
      " [101  64]\n",
      " [ 56 141]\n",
      " [  4  67]\n",
      " [ 35  61]\n",
      " [ 67  79]\n",
      " [  3  63]\n",
      " [ 56  73]\n",
      " [212 127]\n",
      " [131  88]\n",
      " [157 166]\n",
      " [ 96  77]\n",
      " [ 98  97]\n",
      " [ 53 186]\n",
      " [ 17 327]\n",
      " [156  14]\n",
      " [ 89  60]\n",
      " [  2  94]\n",
      " [ 97 297]\n",
      " [ 32  36]\n",
      " [124 199]\n",
      " [  1  57]\n",
      " [176 158]]\n",
      "[0 0 0 0 0 0 0 0 1 1 1 1 1 1 1 1 0 0 0 0 0 0 0 1 1 1 1 1 1 1]\n"
     ]
    }
   ],
   "source": [
    "# Membuat data dummy\n",
    "# Hasil dari make_classification berupa data fitur X dan label y\n",
    "# Label y akan berupa data yang sudah di encode (angka)\n",
    "X,y = make_classification(n_samples=30, n_features=2, n_classes=2, n_informative=2, n_redundant=0, n_repeated=0, shuffle=False)\n",
    "\n",
    "# Secara defalt, make_classfication menghasilkan nilai float\n",
    "# Kita perlu merubah dalam bentuk diskrit\n",
    "\n",
    "# Absolutekan nilai\n",
    "X = np.absolute(X)\n",
    "\n",
    "# Bulatkan nilai ke 2 angka dibelakang koma\n",
    "# Kalikan dengan 100 supaya tidak ada lagi koma\n",
    "X = np.round(X, 2) * 100\n",
    "\n",
    "# Ubah ke dalam bentuk integer\n",
    "X = X.astype(int)\n",
    "print(X)\n",
    "print(y)"
   ],
   "metadata": {
    "collapsed": false,
    "ExecuteTime": {
     "end_time": "2023-09-21T07:41:56.981638200Z",
     "start_time": "2023-09-21T07:41:56.398289200Z"
    }
   },
   "id": "89a8a61c9c625063"
  },
  {
   "cell_type": "markdown",
   "source": [
    "### Langkah 2: (Opsional) Membuat Data Frame"
   ],
   "metadata": {
    "collapsed": false
   },
   "id": "58418fab8b6cb3c6"
  },
  {
   "cell_type": "code",
   "execution_count": 6,
   "outputs": [
    {
     "data": {
      "text/plain": "   Fitur 1  Fitur 2  Label\n0      111      108      0\n1       15       99      0\n2      104      104      0\n3      130      101      0\n4      202       60      0",
      "text/html": "<div>\n<style scoped>\n    .dataframe tbody tr th:only-of-type {\n        vertical-align: middle;\n    }\n\n    .dataframe tbody tr th {\n        vertical-align: top;\n    }\n\n    .dataframe thead th {\n        text-align: right;\n    }\n</style>\n<table border=\"1\" class=\"dataframe\">\n  <thead>\n    <tr style=\"text-align: right;\">\n      <th></th>\n      <th>Fitur 1</th>\n      <th>Fitur 2</th>\n      <th>Label</th>\n    </tr>\n  </thead>\n  <tbody>\n    <tr>\n      <th>0</th>\n      <td>111</td>\n      <td>108</td>\n      <td>0</td>\n    </tr>\n    <tr>\n      <th>1</th>\n      <td>15</td>\n      <td>99</td>\n      <td>0</td>\n    </tr>\n    <tr>\n      <th>2</th>\n      <td>104</td>\n      <td>104</td>\n      <td>0</td>\n    </tr>\n    <tr>\n      <th>3</th>\n      <td>130</td>\n      <td>101</td>\n      <td>0</td>\n    </tr>\n    <tr>\n      <th>4</th>\n      <td>202</td>\n      <td>60</td>\n      <td>0</td>\n    </tr>\n  </tbody>\n</table>\n</div>"
     },
     "execution_count": 6,
     "metadata": {},
     "output_type": "execute_result"
    }
   ],
   "source": [
    "# Reshape label y menjadi 2D\n",
    "# Hal ini dilakukan karena kita akan menggabungkannya dengan data fitur X\n",
    "y_new = y.reshape(len(y), 1)\n",
    "\n",
    "# Gabungkan fitur X dan label y dalam data array\n",
    "data = np.concatenate((X, y_new), axis=1)\n",
    "\n",
    "# Definisikan nama kolom\n",
    "nama_kolom = ['Fitur 1', 'Fitur 2', 'Label']\n",
    "\n",
    "# Buat Data Frame\n",
    "df = pd.DataFrame(data, columns=nama_kolom)\n",
    "\n",
    "# Cek Data Frame\n",
    "df.head()"
   ],
   "metadata": {
    "collapsed": false,
    "ExecuteTime": {
     "end_time": "2023-09-21T07:41:57.038758300Z",
     "start_time": "2023-09-21T07:41:56.617343800Z"
    }
   },
   "id": "d47bf6208829dbc1"
  },
  {
   "cell_type": "code",
   "execution_count": 7,
   "outputs": [
    {
     "data": {
      "text/plain": "   Fitur 1  Fitur 2    Label\n0      111      108  Kelas B\n1       15       99  Kelas B\n2      104      104  Kelas B\n3      130      101  Kelas B\n4      202       60  Kelas B",
      "text/html": "<div>\n<style scoped>\n    .dataframe tbody tr th:only-of-type {\n        vertical-align: middle;\n    }\n\n    .dataframe tbody tr th {\n        vertical-align: top;\n    }\n\n    .dataframe thead th {\n        text-align: right;\n    }\n</style>\n<table border=\"1\" class=\"dataframe\">\n  <thead>\n    <tr style=\"text-align: right;\">\n      <th></th>\n      <th>Fitur 1</th>\n      <th>Fitur 2</th>\n      <th>Label</th>\n    </tr>\n  </thead>\n  <tbody>\n    <tr>\n      <th>0</th>\n      <td>111</td>\n      <td>108</td>\n      <td>Kelas B</td>\n    </tr>\n    <tr>\n      <th>1</th>\n      <td>15</td>\n      <td>99</td>\n      <td>Kelas B</td>\n    </tr>\n    <tr>\n      <th>2</th>\n      <td>104</td>\n      <td>104</td>\n      <td>Kelas B</td>\n    </tr>\n    <tr>\n      <th>3</th>\n      <td>130</td>\n      <td>101</td>\n      <td>Kelas B</td>\n    </tr>\n    <tr>\n      <th>4</th>\n      <td>202</td>\n      <td>60</td>\n      <td>Kelas B</td>\n    </tr>\n  </tbody>\n</table>\n</div>"
     },
     "execution_count": 7,
     "metadata": {},
     "output_type": "execute_result"
    }
   ],
   "source": [
    "# Definisikan nama label\n",
    "labels = {\n",
    "    1 : 'Kelas A',\n",
    "    0 : 'Kelas B'\n",
    "}\n",
    "\n",
    "# Copy Data Frame untuk menyimpan Data Frame baru\n",
    "# dengan label yang mudah untuk dibaca\n",
    "df_label = df.copy()\n",
    "\n",
    "# Ubah label dengan fungsi mapping dari Pandas\n",
    "# pada Data Frame df_label\n",
    "df_label['Label'] = df_label['Label'].map(labels)\n",
    "\n",
    "# Cek Data Frame df_label\n",
    "df_label.head()"
   ],
   "metadata": {
    "collapsed": false,
    "ExecuteTime": {
     "end_time": "2023-09-21T07:41:57.042020900Z",
     "start_time": "2023-09-21T07:41:56.702292Z"
    }
   },
   "id": "2444e067fa5fb429"
  },
  {
   "cell_type": "markdown",
   "source": [
    "### Langkah 3: (Opsional) Visualisasi Data"
   ],
   "metadata": {
    "collapsed": false
   },
   "id": "986211de42f97dd7"
  },
  {
   "cell_type": "code",
   "execution_count": 8,
   "outputs": [
    {
     "data": {
      "text/plain": "<Figure size 640x480 with 1 Axes>",
      "image/png": "[encoded data removed]"
     },
     "metadata": {},
     "output_type": "display_data"
    }
   ],
   "source": [
    "# Definisikan warna untuk setiap kelas\n",
    "colors = {\n",
    "    'class_a': 'MediumVioletRed',\n",
    "    'class_b': 'Navy'\n",
    "}\n",
    "\n",
    "# Kelompokkan label berdasarkan nama kelas\n",
    "gb = df_label.groupby(['Label'])\n",
    "class_a = gb.get_group('Kelas A')\n",
    "class_b = gb.get_group('Kelas B')\n",
    "\n",
    "# Plot\n",
    "plt.scatter(x=class_a['Fitur 1'], y=class_a['Fitur 2'], c=colors['class_a'])\n",
    "plt.scatter(x=class_b['Fitur 1'], y=class_b['Fitur 2'], c=colors['class_b'])\n",
    "plt.xlabel('Fitur 1')\n",
    "plt.ylabel('Fitur 2')\n",
    "plt.legend(['Kelas A', 'Kelas B'])\n",
    "plt.gca().axes.xaxis.set_ticklabels([])\n",
    "plt.gca().axes.yaxis.set_ticklabels([])\n",
    "plt.show()"
   ],
   "metadata": {
    "collapsed": false,
    "ExecuteTime": {
     "end_time": "2023-09-21T07:41:58.157750100Z",
     "start_time": "2023-09-21T07:41:56.874180900Z"
    }
   },
   "id": "113dfe8031b6a469"
  },
  {
   "cell_type": "markdown",
   "source": [
    "### Langkah 4: Klasifikasi Multinomial Naive Bayes"
   ],
   "metadata": {
    "collapsed": false
   },
   "id": "8ffa7c9447b001b1"
  },
  {
   "cell_type": "code",
   "execution_count": 9,
   "outputs": [
    {
     "name": "stdout",
     "output_type": "stream",
     "text": [
      "Hasil akurasi data train: 0.7142857142857143\n",
      "Hasil akurasi data test: 0.5555555555555556\n"
     ]
    }
   ],
   "source": [
    "# Inisiasi obyek MultinomialNB\n",
    "mnb = MultinomialNB()\n",
    "\n",
    "# Kita dapat langsung menggunakan fitur X dan label y\n",
    "# hasil dari proses pembuatan data dummy\n",
    "\n",
    "# Split data training dan testing\n",
    "X_train, X_test, y_train, y_test = train_test_split(X,y, test_size=0.3, random_state=30)\n",
    "\n",
    "# Fit model\n",
    "# Label y harus dalam bentuk 1D atau (n_samples,)\n",
    "mnb.fit(X_train, y_train)\n",
    "\n",
    "# Prediksi dengan data training\n",
    "y_train_pred = mnb.predict(X_train)\n",
    "\n",
    "# Evaluasi akurasi training\n",
    "acc_train = accuracy_score(y_train, y_train_pred)\n",
    "\n",
    "# Prediksi test data\n",
    "y_test_pred = mnb.predict(X_test)\n",
    "\n",
    "# Evaluasi model dengan metric akurasi\n",
    "acc_test = accuracy_score(y_test, y_test_pred)\n",
    "\n",
    "# Print hasil evaluasi\n",
    "print(f'Hasil akurasi data train: {acc_train}')\n",
    "print(f'Hasil akurasi data test: {acc_test}')"
   ],
   "metadata": {
    "collapsed": false,
    "ExecuteTime": {
     "end_time": "2023-09-21T07:41:58.158748200Z",
     "start_time": "2023-09-21T07:41:58.042118800Z"
    }
   },
   "id": "39561a93107f14e7"
  }
 ],
 "metadata": {
  "kernelspec": {
   "display_name": "Python 3",
   "language": "python",
   "name": "python3"
  },
  "language_info": {
   "codemirror_mode": {
    "name": "ipython",
    "version": 2
   },
   "file_extension": ".py",
   "mimetype": "text/x-python",
   "name": "python",
   "nbconvert_exporter": "python",
   "pygments_lexer": "ipython2",
   "version": "2.7.6"
  }
 },
 "nbformat": 4,
 "nbformat_minor": 5
}
