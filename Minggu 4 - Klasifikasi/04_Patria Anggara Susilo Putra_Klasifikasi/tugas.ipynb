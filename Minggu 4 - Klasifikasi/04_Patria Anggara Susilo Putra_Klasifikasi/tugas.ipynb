{
 "cells": [
  {
   "cell_type": "code",
   "execution_count": 36,
   "id": "initial_id",
   "metadata": {
    "collapsed": true,
    "ExecuteTime": {
     "end_time": "2023-09-27T12:56:56.542670700Z",
     "start_time": "2023-09-27T12:56:56.428443600Z"
    }
   },
   "outputs": [],
   "source": [
    "# import library\n",
    "import numpy as np\n",
    "import pandas as pd\n",
    "import seaborn as sns\n",
    "import matplotlib.pyplot as plt\n",
    "\n",
    "from sklearn.datasets import make_blobs\n",
    "from sklearn import svm\n",
    "from sklearn.metrics import accuracy_score\n",
    "from sklearn.naive_bayes import MultinomialNB\n",
    "from sklearn.model_selection import train_test_split\n",
    "from sklearn.metrics import classification_report, confusion_matrix\n",
    "from sklearn.feature_extraction.text import CountVectorizer, TfidfVectorizer\n",
    "from sklearn.metrics import accuracy_score, classification_report, confusion_matrix"
   ]
  },
  {
   "cell_type": "markdown",
   "source": [
    "### Nomor 1: Model Klasifikasi SVM"
   ],
   "metadata": {
    "collapsed": false
   },
   "id": "987131278f6de0c0"
  },
  {
   "cell_type": "code",
   "execution_count": 37,
   "outputs": [],
   "source": [
    "data_frame = pd.read_csv('csv/voice.csv')"
   ],
   "metadata": {
    "collapsed": false,
    "ExecuteTime": {
     "end_time": "2023-09-27T12:56:56.643425900Z",
     "start_time": "2023-09-27T12:56:56.437601700Z"
    }
   },
   "id": "ef82ab17e781cd53"
  },
  {
   "cell_type": "code",
   "execution_count": 38,
   "outputs": [
    {
     "name": "stderr",
     "output_type": "stream",
     "text": [
      "C:\\ProgramData\\anaconda3\\Lib\\site-packages\\sklearn\\utils\\validation.py:1184: DataConversionWarning: A column-vector y was passed when a 1d array was expected. Please change the shape of y to (n_samples, ), for example using ravel().\n",
      "  y = column_or_1d(y, warn=True)\n"
     ]
    },
    {
     "name": "stdout",
     "output_type": "stream",
     "text": [
      "              precision    recall  f1-score   support\n",
      "\n",
      "      female       0.98      0.89      0.93       297\n",
      "        male       0.91      0.99      0.95       337\n",
      "\n",
      "    accuracy                           0.94       634\n",
      "   macro avg       0.95      0.94      0.94       634\n",
      "weighted avg       0.94      0.94      0.94       634\n"
     ]
    },
    {
     "data": {
      "text/plain": "Text(97.72222222222221, 0.5, 'Truth')"
     },
     "execution_count": 38,
     "metadata": {},
     "output_type": "execute_result"
    },
    {
     "data": {
      "text/plain": "<Figure size 1000x700 with 2 Axes>",
      "image/png": "[encoded data removed]"
     },
     "metadata": {},
     "output_type": "display_data"
    }
   ],
   "source": [
    "x = data_frame[['meanfreq', 'sd', 'median', 'Q25', 'Q75', 'IQR', 'skew', 'kurt', 'sp.ent', 'sfm', 'mode', 'centroid', 'meanfun', 'maxfun', 'minfun', 'mindom', 'maxdom', 'dfrange', 'modindx']]\n",
    "y = data_frame[['label']]\n",
    "\n",
    "x_train, x_test, y_train, y_test = train_test_split(x, y, test_size=0.2, random_state=42)\n",
    "\n",
    "#menggunakan SVM library untuk membuat SVM classifier\n",
    "classifier = svm.SVC(kernel = 'linear')\n",
    "\n",
    "#memasukkan training data kedalam classifier\n",
    "classifier.fit(x_train, y_train)\n",
    "\n",
    "#memasukkan testing data ke variabel y_predict\n",
    "y_predict = classifier.predict(x_test)\n",
    "\n",
    "#menampilkan classification report\n",
    "print(classification_report(y_test, y_predict))\n",
    "\n",
    "#mengimplementasikan testing data dan hasil prediksi dalam confusion matrix\n",
    "cm = confusion_matrix(y_test, y_predict)\n",
    "\n",
    "plt.figure (figsize=(10,7))\n",
    "sns.heatmap(cm, annot=True)\n",
    "plt.xlabel('Predicted')\n",
    "plt.ylabel('Truth')"
   ],
   "metadata": {
    "collapsed": false,
    "ExecuteTime": {
     "end_time": "2023-09-27T12:57:05.882066800Z",
     "start_time": "2023-09-27T12:56:56.506854100Z"
    }
   },
   "id": "cbd5c204d248d95c"
  },
  {
   "cell_type": "markdown",
   "source": [
    "### Nomor 2: Model klasfikasi Multinomial Naive Bayes "
   ],
   "metadata": {
    "collapsed": false
   },
   "id": "cbc09566c24b19f9"
  },
  {
   "cell_type": "code",
   "execution_count": 39,
   "outputs": [
    {
     "name": "stdout",
     "output_type": "stream",
     "text": [
      "Akurasi Model Multinomial Naive Bayes: 0.98\n",
      "Laporan Klasifikasi:\n",
      "              precision    recall  f1-score   support\n",
      "\n",
      "         ham       0.99      0.99      0.99       965\n",
      "        spam       0.96      0.92      0.94       150\n",
      "\n",
      "    accuracy                           0.98      1115\n",
      "   macro avg       0.97      0.96      0.96      1115\n",
      "weighted avg       0.98      0.98      0.98      1115\n",
      "\n",
      "Matriks Konfusi:\n",
      "[[959   6]\n",
      " [ 12 138]]\n"
     ]
    }
   ],
   "source": [
    "# Baca data dari file CSV\n",
    "data = pd.read_csv('csv/spam.csv', encoding='latin-1')\n",
    "\n",
    "# Pisahkan kolom teks (v2) dan label (v1)\n",
    "X = data[\"v2\"]\n",
    "y = data[\"v1\"]\n",
    "\n",
    "# Bagi data menjadi data pelatihan dan pengujian\n",
    "X_train, X_test, y_train, y_test = train_test_split(X, y, test_size=0.2, random_state=42)\n",
    "\n",
    "# Inisialisasi CountVectorizer dengan mengaktifkan stop_words\n",
    "vectorizer = CountVectorizer(stop_words='english')\n",
    "\n",
    "# Transformasi teks menjadi representasi vektor\n",
    "X_train = vectorizer.fit_transform(X_train)\n",
    "X_test = vectorizer.transform(X_test)\n",
    "\n",
    "# Membuat model Multinomial Naive Bayes\n",
    "clf = MultinomialNB()\n",
    "\n",
    "# Melatih model pada data pelatihan\n",
    "clf.fit(X_train, y_train)\n",
    "\n",
    "# Melakukan prediksi pada data pengujian\n",
    "y_pred = clf.predict(X_test)\n",
    "\n",
    "# Evaluasi model\n",
    "accuracy = accuracy_score(y_test, y_pred)\n",
    "print(f\"Akurasi Model Multinomial Naive Bayes: {accuracy:.2f}\")\n",
    "\n",
    "# Menampilkan laporan klasifikasi\n",
    "print(\"Laporan Klasifikasi:\")\n",
    "print(classification_report(y_test, y_pred))\n",
    "\n",
    "# Menampilkan matriks konfusi\n",
    "confusion = confusion_matrix(y_test, y_pred)\n",
    "print(\"Matriks Konfusi:\")\n",
    "print(confusion)\n"
   ],
   "metadata": {
    "collapsed": false,
    "ExecuteTime": {
     "end_time": "2023-09-27T12:57:06.455737Z",
     "start_time": "2023-09-27T12:57:05.882066800Z"
    }
   },
   "id": "b4f8463eccc1408c"
  },
  {
   "cell_type": "markdown",
   "source": [
    "### Nomor 3: Model klasfikasi Multinomial Naive Bayes "
   ],
   "metadata": {
    "collapsed": false
   },
   "id": "7b1202cb21f031c2"
  },
  {
   "cell_type": "code",
   "execution_count": 40,
   "outputs": [
    {
     "name": "stdout",
     "output_type": "stream",
     "text": [
      "Akurasi Model Multinomial Naive Bayes dengan TF-IDF: 0.97\n",
      "Laporan Klasifikasi dengan TF-IDF:\n",
      "              precision    recall  f1-score   support\n",
      "\n",
      "         ham       0.96      1.00      0.98       965\n",
      "        spam       1.00      0.75      0.86       150\n",
      "\n",
      "    accuracy                           0.97      1115\n",
      "   macro avg       0.98      0.88      0.92      1115\n",
      "weighted avg       0.97      0.97      0.96      1115\n",
      "\n",
      "Matriks Konfusi dengan TF-IDF:\n",
      "[[965   0]\n",
      " [ 37 113]]\n"
     ]
    }
   ],
   "source": [
    "# Baca data dari file CSV\n",
    "data = pd.read_csv('csv/spam.csv', encoding='latin-1')\n",
    "\n",
    "# Pisahkan kolom teks (v2) dan label (v1)\n",
    "X = data[\"v2\"]\n",
    "y = data[\"v1\"]\n",
    "\n",
    "# Bagi data menjadi data pelatihan dan pengujian\n",
    "X_train, X_test, y_train, y_test = train_test_split(X, y, test_size=0.2, random_state=42)\n",
    "\n",
    "# Inisialisasi TfidfVectorizer dengan mengaktifkan stop_words\n",
    "tfidf_vectorizer = TfidfVectorizer(stop_words=\"english\")\n",
    "\n",
    "# Transformasi teks menjadi representasi vektor TF-IDF\n",
    "X_train_tfidf = tfidf_vectorizer.fit_transform(X_train)\n",
    "X_test_tfidf = tfidf_vectorizer.transform(X_test)\n",
    "\n",
    "# Membuat model Multinomial Naive Bayes\n",
    "clf_tfidf = MultinomialNB()\n",
    "\n",
    "# Melatih model pada data pelatihan TF-IDF\n",
    "clf_tfidf.fit(X_train_tfidf, y_train)\n",
    "\n",
    "# Melakukan prediksi pada data pengujian TF-IDF\n",
    "y_pred_tfidf = clf_tfidf.predict(X_test_tfidf)\n",
    "\n",
    "# Evaluasi model menggunakan TF-IDF\n",
    "accuracy_tfidf = accuracy_score(y_test, y_pred_tfidf)\n",
    "print(f\"Akurasi Model Multinomial Naive Bayes dengan TF-IDF: {accuracy_tfidf:.2f}\")\n",
    "\n",
    "# Menampilkan laporan klasifikasi menggunakan TF-IDF\n",
    "print(\"Laporan Klasifikasi dengan TF-IDF:\")\n",
    "print(classification_report(y_test, y_pred_tfidf))\n",
    "\n",
    "# Menampilkan matriks konfusi menggunakan TF-IDF\n",
    "confusion_tfidf = confusion_matrix(y_test, y_pred_tfidf)\n",
    "print(\"Matriks Konfusi dengan TF-IDF:\")\n",
    "print(confusion_tfidf)"
   ],
   "metadata": {
    "collapsed": false,
    "ExecuteTime": {
     "end_time": "2023-09-27T12:57:06.903881200Z",
     "start_time": "2023-09-27T12:57:06.432427500Z"
    }
   },
   "id": "2b355a9f8548ca68"
  }
 ],
 "metadata": {
  "kernelspec": {
   "display_name": "Python 3",
   "language": "python",
   "name": "python3"
  },
  "language_info": {
   "codemirror_mode": {
    "name": "ipython",
    "version": 2
   },
   "file_extension": ".py",
   "mimetype": "text/x-python",
   "name": "python",
   "nbconvert_exporter": "python",
   "pygments_lexer": "ipython2",
   "version": "2.7.6"
  }
 },
 "nbformat": 4,
 "nbformat_minor": 5
}
